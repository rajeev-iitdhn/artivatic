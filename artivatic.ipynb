{
 "cells": [
  {
   "cell_type": "code",
   "execution_count": 1,
   "metadata": {},
   "outputs": [
    {
     "name": "stdout",
     "output_type": "stream",
     "text": [
      "Requirement already satisfied: textblob in /home/dell/anaconda3/lib/python3.8/site-packages (0.15.3)\n",
      "Requirement already satisfied: nltk>=3.1 in /home/dell/anaconda3/lib/python3.8/site-packages (from textblob) (3.5)\n",
      "Requirement already satisfied: click in /home/dell/anaconda3/lib/python3.8/site-packages (from nltk>=3.1->textblob) (7.1.2)\n",
      "Requirement already satisfied: regex in /home/dell/anaconda3/lib/python3.8/site-packages (from nltk>=3.1->textblob) (2020.10.15)\n",
      "Requirement already satisfied: tqdm in /home/dell/anaconda3/lib/python3.8/site-packages (from nltk>=3.1->textblob) (4.50.2)\n",
      "Requirement already satisfied: joblib in /home/dell/anaconda3/lib/python3.8/site-packages (from nltk>=3.1->textblob) (0.17.0)\n",
      "Note: you may need to restart the kernel to use updated packages.\n"
     ]
    }
   ],
   "source": [
    "pip install textblob"
   ]
  },
  {
   "cell_type": "code",
   "execution_count": 15,
   "metadata": {},
   "outputs": [
    {
     "name": "stdout",
     "output_type": "stream",
     "text": [
      "Collecting xgboost\n",
      "  Downloading xgboost-1.3.3-py3-none-manylinux2010_x86_64.whl (157.5 MB)\n",
      "\u001b[K     |████████████████████████████████| 157.5 MB 80 kB/s  eta 0:00:01   |▏                               | 645 kB 312 kB/s eta 0:08:23     |████████████████▏               | 79.4 MB 647 kB/s eta 0:02:01     |███████████████████████▌        | 115.8 MB 768 kB/s eta 0:00:55     |███████████████████████████████▉| 156.6 MB 652 kB/s eta 0:00:02\n",
      "\u001b[?25hRequirement already satisfied: numpy in /home/dell/anaconda3/lib/python3.8/site-packages (from xgboost) (1.19.2)\n",
      "Requirement already satisfied: scipy in /home/dell/anaconda3/lib/python3.8/site-packages (from xgboost) (1.5.2)\n",
      "Installing collected packages: xgboost\n",
      "Successfully installed xgboost-1.3.3\n",
      "Note: you may need to restart the kernel to use updated packages.\n"
     ]
    }
   ],
   "source": [
    "pip install xgboost"
   ]
  },
  {
   "cell_type": "code",
   "execution_count": 65,
   "metadata": {},
   "outputs": [],
   "source": [
    "import pandas as pd, numpy as np\n",
    "import matplotlib.pyplot as plt\n",
    "from sklearn.preprocessing import LabelEncoder\n",
    "from textblob import TextBlob"
   ]
  },
  {
   "cell_type": "code",
   "execution_count": 66,
   "metadata": {},
   "outputs": [],
   "source": [
    "path=\"/home/dell/Desktop/artivatic/ML_Artivatic_dataset\"\n",
    "\n",
    "train_data=path+\"/train_indessa.csv\"\n",
    "val_data=path+\"/test_indessa.csv\"\n",
    "sample_submission=path+\"/sample_submission.csv\"\n",
    "\n",
    "train_data=pd.read_csv(train_data)\n",
    "val_data=pd.read_csv(val_data)\n",
    "sample_submission=pd.read_csv(sample_submission)"
   ]
  },
  {
   "cell_type": "code",
   "execution_count": 67,
   "metadata": {},
   "outputs": [],
   "source": [
    "copied=train_data.copy()"
   ]
  },
  {
   "cell_type": "code",
   "execution_count": 68,
   "metadata": {},
   "outputs": [],
   "source": [
    "le = LabelEncoder()\n",
    "def batch_enroll(x):\n",
    "    if x==\" \":\n",
    "        return 0\n",
    "    else:\n",
    "        return len(str(x))\n",
    "def string_replacer(x):\n",
    "    x=str(x).replace(\"<\",\"\")\n",
    "    x=str(x).replace(\"+\",\"\")\n",
    "    return x\n",
    "def string_strip(x):\n",
    "    x=str(x).replace(\"<\",\"\")\n",
    "    x=str(x).replace(\"+\",\"\")\n",
    "    if \"years\" in x:\n",
    "        x=x.strip(\"years\")\n",
    "    if \"year\" in x:\n",
    "        x=x.strip(\"year\")\n",
    "    if \"months\" in x:\n",
    "        x=x.strip(\"months\")\n",
    "    if \"th week\" in x:\n",
    "        x=x.strip(\"th week\")\n",
    "    return x\n",
    "def sentiment(x):\n",
    "    blob=TextBlob(str(x))\n",
    "    result=round(blob.sentiment[0],2)\n",
    "    return result\n",
    "def interpolat(x):\n",
    "    x=x.interpolate()\n",
    "    x=x.fillna(method=\"ffill\")\n",
    "    x=x.fillna(method=\"backfill\")\n",
    "    return x"
   ]
  },
  {
   "cell_type": "code",
   "execution_count": 69,
   "metadata": {},
   "outputs": [],
   "source": [
    "def col_pre(copied):\n",
    "    input_feat=[\"loan_amnt\",\"funded_amnt\",\"funded_amnt_inv\",\"batch_enrolled\",\"int_rate\",\n",
    "             \"grade\",\"sub_grade\",\"emp_title\",\"purpose\",\"addr_state\",\"dti\",\"delinq_2yrs\",\"inq_last_6mths\",\n",
    "            \"mths_since_last_delinq\",\"mths_since_last_record\",\"open_acc\",\"pub_rec\",\"revol_bal\",\"revol_util\",\n",
    "            \"total_acc\",\"initial_list_status\",\"total_rec_int\",\"total_rec_late_fee\",\"recoveries\",\n",
    "             \"collection_recovery_fee\",\"collections_12_mths_ex_med\"\n",
    "             ,\"application_type\",\n",
    "            \"acc_now_delinq\",\"tot_coll_amt\",\"tot_cur_bal\",\"total_rev_hi_lim\"]\n",
    "    output_feat=\"loan_status\"\n",
    "    \n",
    "    le_col=[\"grade\",\"sub_grade\",\"home_ownership\",\"verification_status\",\"pymnt_plan\",\"purpose\",\n",
    "           \"addr_state\",\"initial_list_status\",\"application_type\"]\n",
    "    for col in le_col:\n",
    "        copied[col]=pd.Series(le.fit_transform(copied[col])).apply(int)\n",
    "    copied[\"emp_title\"]=pd.Series(le.fit_transform(copied.emp_title.apply(string_replacer)))\n",
    "#     copied.verification_status_joint=le.fit_transform(copied.verification_status_joint.apply(str))\n",
    "\n",
    "    copied.batch_enrolled=copied.batch_enrolled.apply(batch_enroll)\n",
    "#     copied.emp_length=copied.emp_length.apply(string_strip)\n",
    "    copied.term=copied.term.apply(string_strip)\n",
    "    copied.last_week_pay=copied.last_week_pay.apply(string_strip)\n",
    "    copied=copied[input_feat]\n",
    "    copied=interpolat(copied)\n",
    "    return copied"
   ]
  },
  {
   "cell_type": "code",
   "execution_count": null,
   "metadata": {},
   "outputs": [],
   "source": []
  },
  {
   "cell_type": "code",
   "execution_count": 70,
   "metadata": {},
   "outputs": [],
   "source": [
    "input_feat=[\"loan_amnt\",\"funded_amnt\",\"funded_amnt_inv\",\"batch_enrolled\",\"int_rate\",\n",
    "             \"grade\",\"sub_grade\",\"emp_title\",\"purpose\",\"addr_state\",\"dti\",\"delinq_2yrs\",\"inq_last_6mths\",\n",
    "            \"mths_since_last_delinq\",\"mths_since_last_record\",\"open_acc\",\"pub_rec\",\"revol_bal\",\"revol_util\",\n",
    "            \"total_acc\",\"initial_list_status\",\"total_rec_int\",\"total_rec_late_fee\",\"recoveries\",\n",
    "             \"collection_recovery_fee\",\"collections_12_mths_ex_med\"\n",
    "             ,\"application_type\",\n",
    "            \"acc_now_delinq\",\"tot_coll_amt\",\"tot_cur_bal\",\"total_rev_hi_lim\"]"
   ]
  },
  {
   "cell_type": "code",
   "execution_count": 71,
   "metadata": {},
   "outputs": [],
   "source": [
    "data=col_pre(train_data)"
   ]
  },
  {
   "cell_type": "code",
   "execution_count": 95,
   "metadata": {},
   "outputs": [],
   "source": [
    "test_=col_pre(val_data)"
   ]
  },
  {
   "cell_type": "code",
   "execution_count": 73,
   "metadata": {},
   "outputs": [],
   "source": [
    "data[\"loan_staus\"]=train_data.loan_status"
   ]
  },
  {
   "cell_type": "code",
   "execution_count": 75,
   "metadata": {},
   "outputs": [],
   "source": [
    "train=data.iloc[:int(98*len(data)/100),:]\n",
    "val=data.iloc[int(98*len(data)/100):,:]"
   ]
  },
  {
   "cell_type": "code",
   "execution_count": 76,
   "metadata": {
    "scrolled": true
   },
   "outputs": [],
   "source": [
    "x_train=train.iloc[:,:-1]\n",
    "y_train=train.iloc[:,-1]"
   ]
  },
  {
   "cell_type": "code",
   "execution_count": 77,
   "metadata": {},
   "outputs": [],
   "source": [
    "x_val=val.iloc[:,:-1]\n",
    "y_val=val.iloc[:,-1]"
   ]
  },
  {
   "cell_type": "code",
   "execution_count": 78,
   "metadata": {},
   "outputs": [],
   "source": [
    "from sklearn.linear_model import LogisticRegression\n",
    "from sklearn import svm\n",
    "from sklearn.metrics import roc_auc_score"
   ]
  },
  {
   "cell_type": "code",
   "execution_count": 79,
   "metadata": {},
   "outputs": [],
   "source": [
    "from xgboost import XGBClassifier"
   ]
  },
  {
   "cell_type": "code",
   "execution_count": 91,
   "metadata": {},
   "outputs": [
    {
     "name": "stderr",
     "output_type": "stream",
     "text": [
      "/home/dell/anaconda3/lib/python3.8/site-packages/xgboost/sklearn.py:888: UserWarning: The use of label encoder in XGBClassifier is deprecated and will be removed in a future release. To remove this warning, do the following: 1) Pass option use_label_encoder=False when constructing XGBClassifier object; and 2) Encode your labels (y) as integers starting with 0, i.e. 0, 1, 2, ..., [num_class - 1].\n",
      "  warnings.warn(label_encoder_deprecation_msg, UserWarning)\n"
     ]
    },
    {
     "name": "stdout",
     "output_type": "stream",
     "text": [
      "[18:52:46] WARNING: ../src/learner.cc:1061: Starting in XGBoost 1.3.0, the default evaluation metric used with the objective 'binary:logistic' was changed from 'error' to 'logloss'. Explicitly set eval_metric if you'd like to restore the old behavior.\n"
     ]
    }
   ],
   "source": [
    "mdl=xgb_mdl.fit(x_train,y_train)"
   ]
  },
  {
   "cell_type": "code",
   "execution_count": 92,
   "metadata": {},
   "outputs": [],
   "source": [
    "probs=mdl.predict_proba(x_val)"
   ]
  },
  {
   "cell_type": "code",
   "execution_count": 93,
   "metadata": {},
   "outputs": [],
   "source": [
    "probs = probs[:, 1]"
   ]
  },
  {
   "cell_type": "code",
   "execution_count": 94,
   "metadata": {},
   "outputs": [
    {
     "name": "stdout",
     "output_type": "stream",
     "text": [
      "AUC: 0.90\n"
     ]
    }
   ],
   "source": [
    "auc = roc_auc_score(y_val, probs)\n",
    "print('AUC: %.2f' % auc)"
   ]
  },
  {
   "cell_type": "code",
   "execution_count": 17,
   "metadata": {},
   "outputs": [],
   "source": [
    "prediction=mdl.predict(x_val)"
   ]
  },
  {
   "cell_type": "code",
   "execution_count": 96,
   "metadata": {},
   "outputs": [],
   "source": [
    "output=mdl.predict(test_)"
   ]
  },
  {
   "cell_type": "code",
   "execution_count": 101,
   "metadata": {
    "scrolled": true
   },
   "outputs": [],
   "source": [
    "test_[\"member_id\"]=val_data.member_id"
   ]
  },
  {
   "cell_type": "code",
   "execution_count": 110,
   "metadata": {},
   "outputs": [],
   "source": [
    "output_df=pd.DataFrame()"
   ]
  },
  {
   "cell_type": "code",
   "execution_count": 111,
   "metadata": {},
   "outputs": [],
   "source": [
    "output_df[\"member_id\"]=test_[\"member_id\"]\n",
    "output_df[\"loan_status\"]=pd.Series(output)"
   ]
  },
  {
   "cell_type": "code",
   "execution_count": 115,
   "metadata": {},
   "outputs": [],
   "source": [
    "with pd.ExcelWriter('sample_submission.xlsx') as writer:  \n",
    "    output_df.to_excel(writer, sheet_name='Sample_submission')"
   ]
  }
 ],
 "metadata": {
  "kernelspec": {
   "display_name": "Python 3",
   "language": "python",
   "name": "python3"
  },
  "language_info": {
   "codemirror_mode": {
    "name": "ipython",
    "version": 3
   },
   "file_extension": ".py",
   "mimetype": "text/x-python",
   "name": "python",
   "nbconvert_exporter": "python",
   "pygments_lexer": "ipython3",
   "version": "3.8.5"
  }
 },
 "nbformat": 4,
 "nbformat_minor": 4
}
